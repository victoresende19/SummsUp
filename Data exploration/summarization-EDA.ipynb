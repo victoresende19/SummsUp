{
 "cells": [
  {
   "cell_type": "markdown",
   "id": "826e18cb",
   "metadata": {},
   "source": [
    "<a href=\"https://github.com/victoresende19\" rel=\"some text\">![Foo](https://www.folhavitoria.com.br/geral/blogs/empregoseconcursos/wp-content/uploads/2017/10/escrever.png)</a>\n",
    "\n",
    "<h2 style=\"text-align:center\">Sumarização de textos</h2>\n",
    "<p style=\"text-align:center;font-size:13px;\"></p>\n",
    "   \n",
    "<h2 style=\"text-align:center\">Victor Augusto Souza Resende</h2>\n",
    "<p style=\"text-align:center;font-size:13px;\">1922120027</p>\n",
    "<p style=\"text-align:center;font-size:13px;\">Autor</p>"
   ]
  },
  {
   "cell_type": "markdown",
   "id": "4225e635",
   "metadata": {},
   "source": [
    "<hr>"
   ]
  },
  {
   "cell_type": "markdown",
   "id": "f07d853e",
   "metadata": {},
   "source": [
    "## Sumário\n",
    "\n",
    "    \n",
    "- [1. Objetivo](#1)<br>\n",
    "        \n",
    "- [2. Extração](#2)<br>\n",
    "    * [2.1 Extração de textos de PDF](#21)<br>\n",
    "    * [2.2 Extração de textos via input do usuário](#22)<br>\n",
    "    \n",
    "- [3. Normalização](#3)<br>\n",
    "    * [3.1 Conversão do texto para minúsculo](#31)<br>\n",
    "    * [3.2 Remoção de acentos](#32)<br>\n",
    "    \n",
    "- [4. Sumarização](#4)<br>\n",
    "    * [4.1 Sumarização de textos em português (Hugging Face)](#41)<br>\n",
    "    * [4.2 Sumarização de textos em inglês (Hugging Face)](#42)<br>\n",
    "    \n",
    "- [5. Avaliação](#5)<br>\n",
    "    * [5.1 Acurácia sumarização de textos em português (Harim - Hugging Face)](#51)<br>\n",
    "    * [5.2 Acurácia sumarização de textos em inglês (Harim - Hugging Face)](#52)<br>\n",
    "    \n",
    "- [6. Conclusão](#6)<br>"
   ]
  },
  {
   "cell_type": "markdown",
   "id": "97a5a4e3",
   "metadata": {},
   "source": [
    "<hr>"
   ]
  },
  {
   "cell_type": "code",
   "execution_count": 1,
   "id": "342cf55d",
   "metadata": {},
   "outputs": [],
   "source": [
    "!pip install pdfplumber -q\n",
    "!pip install unidecode -q\n",
    "!pip install evaluate -q"
   ]
  },
  {
   "cell_type": "code",
   "execution_count": 2,
   "id": "7194a0f6",
   "metadata": {},
   "outputs": [],
   "source": [
    "import pdfplumber\n",
    "from unidecode import unidecode\n",
    "\n",
    "from transformers import T5Tokenizer, T5ForConditionalGeneration, pipeline\n",
    "import evaluate"
   ]
  },
  {
   "cell_type": "markdown",
   "id": "39e2a1e5",
   "metadata": {},
   "source": [
    "# 1 - Objetivo <a id=\"1\"></a>\n",
    "\n",
    "Esse projeto pretende a implementação de aplicação de uma interface que torne possível a sumarização de textos. Da mesma forma, a aplicação que será construída terá como objetivo a sumarização de artigos científicos por meio de upload do respectivo artigo em formato PDF ou caixa de texto, visando ajudar e auxiliar estudantes em uma leitura mais breve sobre determinado assunto. Portanto, esse jupyter notebook servirá apenas como protótipo para a implementação da interface."
   ]
  },
  {
   "cell_type": "markdown",
   "id": "80bbb656",
   "metadata": {},
   "source": [
    "# 2 - Extração <a id=\"2\"></a>\n",
    "Etapa da qual verificará a extração de textos via PDF e input do usuário."
   ]
  },
  {
   "cell_type": "markdown",
   "id": "02286759",
   "metadata": {},
   "source": [
    "## 2.1 - Extração de textos de PDF <a id=\"21\"></a>"
   ]
  },
  {
   "cell_type": "code",
   "execution_count": 3,
   "id": "f4993271",
   "metadata": {},
   "outputs": [],
   "source": [
    "def extrair_pdf(pdf: str) -> str:\n",
    "    \"\"\"'\n",
    "    Extrai o texto do PDF\n",
    "    \n",
    "    recebe - PDF: caminho PDF a extrair informação\n",
    "    retorna - texto: texto extraído do PDF\n",
    "    \"\"\"\n",
    "    \n",
    "    pdf = pdfplumber.open(pdf)\n",
    "    texto = ''\n",
    "    \n",
    "    for pagina in pdf.pages:\n",
    "        texto = texto + pagina.extract_text()\n",
    "        texto = texto + ' '\n",
    "        \n",
    "    return texto"
   ]
  },
  {
   "cell_type": "code",
   "execution_count": 4,
   "id": "81889f6d",
   "metadata": {},
   "outputs": [
    {
     "name": "stdout",
     "output_type": "stream",
     "text": [
      " \n",
      " \n",
      "ELEIÇÃO 2022 – PRESIDÊNCIA DA REPÚBLICA \n",
      " \n",
      "DEMOCRACIA CRISTÃ – DC \n",
      " \n",
      "CARTA 27 \n",
      " \n",
      " \n",
      "DIRETRIZES GERAIS DE GOVERNO PARA \n",
      "CONSTRUIR UM NOVO E MELHOR BRASIL \n",
      " \n",
      " \n",
      " \n",
      "CUMPRIR E FAZER CUMPRIR A CONSTITUIÇÃO \n",
      " \n",
      "1. Cumprir e fazer cumprir a Constituição. A força das grandes Nações está no respeito \n",
      "a Constituição. A Constituição é a alma dos povos. \n",
      " \n",
      " \n",
      "COMPROMISSO COM A FAMÍLIA \n",
      " \n",
      "2. O resgate e a proteção dos valores éticos da Família e a satisfação plena de suas \n",
      "necessidades  serão  o  fundamento, \n"
     ]
    }
   ],
   "source": [
    "texto_pdf = extrair_pdf('PLANODC.pdf') \n",
    "\n",
    "print(texto_pdf[0:500])"
   ]
  },
  {
   "cell_type": "markdown",
   "id": "dcce3f33",
   "metadata": {},
   "source": [
    "## 2.2 - Extração de textos via input do usuário <a id=\"21\"></a>"
   ]
  },
  {
   "cell_type": "code",
   "execution_count": 5,
   "id": "09f6957a",
   "metadata": {},
   "outputs": [],
   "source": [
    "#texto_input = input('Escreva o texto que deseja resumir: \\n\\n')\n",
    "texto_input = \\\n",
    "\"\"\"\n",
    "O Campeonato Mundial de Futebol, mais conhecido no Brasil por Copa do Mundo e também conhecida em Portugal como Campeonato do Mundo de Futebol, Campeonato Mundial FIFA, ou simplesmente Mundial,[1][2] é uma competição internacional de futebol que ocorre a cada quatro anos, com exceção de 1942 e 1946, quando não foi realizada por conta da Segunda Guerra Mundial. Essa competição, que foi criada em 1928 na França, sob a liderança do presidente Jules Rimet, está aberta a todas as federações reconhecidas pela FIFA (Federação Internacional de Futebol Associado, em francês: Fédération International de Football Association). O antigo nome da taça faz referência a Jules Rimet. A primeira edição ocorreu em 1930 no Uruguai, escolhido como país sede e cuja seleção saiu vencedora.\n",
    "\n",
    "No ano de 2022, ocorre no Catar (país peninsular árabe) e conta com 32 países participando, disputando de 20 de novembro a 18 de dezembro. Os jogos aconteceram nos seguintes estádios: Estádio 974; Estádio Al Thumama; Estádio Khalifa International; Estádio Ahmad bin Ali; Estádio Al Bayt; Estádio Lusail; Estádio Al Janoub e Estádio Education City.\n",
    "\n",
    "Com exceção da Copa do Mundo de 1930, o torneio sempre foi realizado em duas fases. Organizada pelas confederações continentais, as Eliminatórias da Copa do Mundo permitem que as melhores seleções de cada continente participem da competição, que ocorre em um ou mais países-sede. O formato atual da Copa do Mundo é com trinta e duas equipes nacionais por um período de cerca de um mês. A partir da edição de 2026 o torneio contará com a participação de 48 equipes.\n",
    "\"\"\""
   ]
  },
  {
   "cell_type": "markdown",
   "id": "f0472262",
   "metadata": {},
   "source": [
    "# 3 - Normalização <a id=\"3\"></a>\n",
    "Etapa da qual serão normalizadas as strings contendo os textos oriundos do PDF e input do usuário. "
   ]
  },
  {
   "cell_type": "markdown",
   "id": "e8f818ac",
   "metadata": {},
   "source": [
    "## 3.1 - Conversão do texto para minúsculo <a id=\"31\"></a>"
   ]
  },
  {
   "cell_type": "code",
   "execution_count": 6,
   "id": "e0ae6647",
   "metadata": {},
   "outputs": [],
   "source": [
    "def lower(texto: str) -> str:\n",
    "    \"\"\"'\n",
    "    Converte todo o texto para minúsculo\n",
    "    \n",
    "    recebe - texto: texto disponibilizado \n",
    "    retorna - texto: texto disponibilizado com as palavras em minúsculo\n",
    "    \"\"\"\n",
    "    \n",
    "    texto = texto.lower()\n",
    "    \n",
    "    return texto"
   ]
  },
  {
   "cell_type": "code",
   "execution_count": 7,
   "id": "bd4493ad",
   "metadata": {},
   "outputs": [],
   "source": [
    "texto_pdf_lower = lower(texto_pdf)\n",
    "texto_input_lower = lower(texto_input)"
   ]
  },
  {
   "cell_type": "markdown",
   "id": "c3d92225",
   "metadata": {},
   "source": [
    "## 3.2 - Remoção de acentos <a id=\"32\"></a>"
   ]
  },
  {
   "cell_type": "code",
   "execution_count": 8,
   "id": "c76828f8",
   "metadata": {},
   "outputs": [],
   "source": [
    "def remover_acentos(texto: str) -> str:\n",
    "    \"\"\"'\n",
    "    Remove todos os acentos do texto\n",
    "    \n",
    "    recebe - texto: texto disponibilizado \n",
    "    retorna - texto: texto disponibilizado com acentos removidos\n",
    "    \"\"\"\n",
    "    \n",
    "    texto = unidecode(texto)\n",
    "    \n",
    "    return texto"
   ]
  },
  {
   "cell_type": "code",
   "execution_count": 9,
   "id": "f7252d4c",
   "metadata": {},
   "outputs": [],
   "source": [
    "texto_pdf_normalizado = remover_acentos(texto_pdf_lower)\n",
    "texto_input_normalizado = remover_acentos(texto_input_lower)"
   ]
  },
  {
   "cell_type": "markdown",
   "id": "ad243447",
   "metadata": {},
   "source": [
    "# 4 - Sumarização <a id=\"4\"></a>\n",
    "Etapa da qual serão sumarizados os textos oriundos do PDF e input do usuário. "
   ]
  },
  {
   "cell_type": "markdown",
   "id": "83e632a2",
   "metadata": {},
   "source": [
    "## 4.1 - Sumarização de textos em português (Hugging Face) <a id=\"41\"></a>"
   ]
  },
  {
   "cell_type": "code",
   "execution_count": 10,
   "id": "980a1b2a",
   "metadata": {},
   "outputs": [],
   "source": [
    "def resumir_portugues(texto: str) -> str:\n",
    "    \"\"\"'\n",
    "    Sumariza o texto disponibilizado (em português)\n",
    "    \n",
    "    recebe - texto: texto disponibilizado \n",
    "    retorna - texto: texto sumarizado (em português)\n",
    "    \"\"\"\n",
    "    \n",
    "    token_name = 'unicamp-dl/ptt5-base-portuguese-vocab'\n",
    "    model_name = 'phpaiola/ptt5-base-summ-xlsum'\n",
    "    \n",
    "    tokenizer = T5Tokenizer.from_pretrained(token_name)\n",
    "    model_pt = T5ForConditionalGeneration.from_pretrained(model_name)\n",
    "    \n",
    "    texto = tokenizer.encode(texto, max_length=512, truncation=True, return_tensors='pt')\n",
    "    summary_ids = model_pt.generate(texto, max_length=256, min_length=32, num_beams=5, no_repeat_ngram_size=3, early_stopping=True)\n",
    "    resumo = tokenizer.decode(summary_ids[0])\n",
    "    \n",
    "    return resumo"
   ]
  },
  {
   "cell_type": "markdown",
   "id": "389eccc5",
   "metadata": {},
   "source": [
    "Resumo com textos normalizados"
   ]
  },
  {
   "cell_type": "code",
   "execution_count": 11,
   "id": "75e697d3",
   "metadata": {},
   "outputs": [],
   "source": [
    "texto_pdf_normalizado_resumido_pt = resumir_portugues(texto_pdf_normalizado)\n",
    "texto_input_normalizado_resumido_pt = resumir_portugues(texto_input_normalizado)"
   ]
  },
  {
   "cell_type": "markdown",
   "id": "2fb564cb",
   "metadata": {},
   "source": [
    "Resumo sem os textos normalizados"
   ]
  },
  {
   "cell_type": "code",
   "execution_count": 12,
   "id": "cdb4c18e",
   "metadata": {},
   "outputs": [],
   "source": [
    "texto_pdf_resumido_pt = resumir_portugues(texto_pdf)\n",
    "texto_input_resumido_pt = resumir_portugues(texto_input)"
   ]
  },
  {
   "cell_type": "markdown",
   "id": "ad324d06",
   "metadata": {},
   "source": [
    "**Resultado sumarização PDF:**"
   ]
  },
  {
   "cell_type": "code",
   "execution_count": 13,
   "id": "e35adf7c",
   "metadata": {},
   "outputs": [
    {
     "name": "stdout",
     "output_type": "stream",
     "text": [
      "Texto não normalizado resumido:\n",
      "\n",
      "<pad> DIRETRIZES GERAIS DE GOVERNO PARA CONSTRUIR UM NOVO E MELHOR BRASIL CUMPRIR A CONSTITUIÇÃO 2022:</s>\n"
     ]
    }
   ],
   "source": [
    "print(f'Texto não normalizado resumido:\\n\\n{texto_pdf_resumido_pt}')"
   ]
  },
  {
   "cell_type": "code",
   "execution_count": 14,
   "id": "e5c04fd6",
   "metadata": {},
   "outputs": [
    {
     "name": "stdout",
     "output_type": "stream",
     "text": [
      "Texto normalizado resumido:\n",
      "\n",
      "<pad> O programa de metas sociais e a aplicacao de politicas sociais orientadas para o desenvolvimento e geração de empregos são algumas das principais metas da republica democracia crista.</s>\n"
     ]
    }
   ],
   "source": [
    "print(f'Texto normalizado resumido:\\n\\n{texto_pdf_normalizado_resumido_pt}')"
   ]
  },
  {
   "cell_type": "markdown",
   "id": "eed1eab3",
   "metadata": {},
   "source": [
    "**Resultado sumarização input usuário:**"
   ]
  },
  {
   "cell_type": "code",
   "execution_count": 15,
   "id": "876851e1",
   "metadata": {},
   "outputs": [
    {
     "name": "stdout",
     "output_type": "stream",
     "text": [
      "Texto não normalizado resumido:\n",
      "\n",
      "<pad> A Copa do Mundo de 2026 será realizada em 20 de novembro e 18 de dezembro no Catar (país peninsular do Catar, na sigla em francês).</s>\n"
     ]
    }
   ],
   "source": [
    "print(f'Texto não normalizado resumido:\\n\\n{texto_input_resumido_pt}')"
   ]
  },
  {
   "cell_type": "code",
   "execution_count": 16,
   "id": "772eb989",
   "metadata": {
    "scrolled": true
   },
   "outputs": [
    {
     "name": "stdout",
     "output_type": "stream",
     "text": [
      "Texto normalizado resumido:\n",
      "\n",
      "<pad> Uma competicao internacional de futebol que ocorre entre 20 de novembro e 18 de dezembro no uruguai, país sede da copa do mundo de 2026, é a mais antiga edicao de futebol do mundo.</s>\n"
     ]
    }
   ],
   "source": [
    "print(f'Texto normalizado resumido:\\n\\n{texto_input_normalizado_resumido_pt}')"
   ]
  },
  {
   "cell_type": "markdown",
   "id": "6f198e06",
   "metadata": {},
   "source": [
    "## 4.2 - Sumarização de textos em inglês (Hugging Face) <a id=\"42\"></a>"
   ]
  },
  {
   "cell_type": "code",
   "execution_count": 17,
   "id": "d390c650",
   "metadata": {},
   "outputs": [],
   "source": [
    "def resumir_ingles(texto: str) -> str:\n",
    "    \"\"\"'\n",
    "    Sumariza o texto disponibilizado (em inglês)\n",
    "    \n",
    "    recebe - texto: texto disponibilizado \n",
    "    retorna - texto: texto sumarizado (em inglês)\n",
    "    \"\"\"\n",
    "    \n",
    "    summarizer = pipeline(\"summarization\", model=\"facebook/bart-large-cnn\")\n",
    "    \n",
    "    return summarizer(texto, max_length=130, min_length=30, do_sample=False)[0]['summary_text']"
   ]
  },
  {
   "cell_type": "markdown",
   "id": "f24965f5",
   "metadata": {},
   "source": [
    "Resumo com textos normalizados"
   ]
  },
  {
   "cell_type": "code",
   "execution_count": 18,
   "id": "be384604",
   "metadata": {},
   "outputs": [],
   "source": [
    "#texto_pdf_normalizado_resumido_en = resumir_ingles(texto_pdf_normalizado)\n",
    "#texto_input_normalizado_resumido_en = resumir_ingles(texto_input_normalizado)"
   ]
  },
  {
   "cell_type": "markdown",
   "id": "a07a53d3",
   "metadata": {},
   "source": [
    "Resumo sem os textos normalizados"
   ]
  },
  {
   "cell_type": "code",
   "execution_count": 19,
   "id": "01212be2",
   "metadata": {},
   "outputs": [],
   "source": [
    "#texto_pdf_normalizado_resumido_en = resumir_ingles(texto_pdf)\n",
    "#texto_input_normalizado_resumido_en = resumir_ingles(texto_input)"
   ]
  },
  {
   "cell_type": "markdown",
   "id": "282883b2",
   "metadata": {},
   "source": [
    "**Resultado sumarização PDF:**"
   ]
  },
  {
   "cell_type": "code",
   "execution_count": 20,
   "id": "28907377",
   "metadata": {},
   "outputs": [],
   "source": [
    "#print(f'Texto não normalizado resumido:\\n\\n{texto_pdf_resumido_en}')"
   ]
  },
  {
   "cell_type": "code",
   "execution_count": 21,
   "id": "5484a4e3",
   "metadata": {},
   "outputs": [],
   "source": [
    "#print(f'Texto normalizado resumido:\\n\\n{texto_pdf_normalizado_resumido_en}')"
   ]
  },
  {
   "cell_type": "markdown",
   "id": "65811374",
   "metadata": {},
   "source": [
    "**Resultado sumarização input usuário:**"
   ]
  },
  {
   "cell_type": "code",
   "execution_count": 22,
   "id": "61132eb1",
   "metadata": {},
   "outputs": [],
   "source": [
    "#print(f'Texto não normalizado resumido:\\n\\n{texto_input_resumido_en}')"
   ]
  },
  {
   "cell_type": "code",
   "execution_count": 23,
   "id": "93e63f33",
   "metadata": {
    "scrolled": true
   },
   "outputs": [],
   "source": [
    "#print(f'Texto normalizado resumido:\\n\\n{texto_input_normalizado_resumido_en}')"
   ]
  },
  {
   "cell_type": "markdown",
   "id": "c66053df",
   "metadata": {},
   "source": [
    "# 5 - Avaliação <a id=\"5\"></a>\n",
    "Etapa da qual serão avaliados as sumarizações feitas por meio da métrica Harim (https://huggingface.co/spaces/NCSOFT/harim_plus)."
   ]
  },
  {
   "cell_type": "code",
   "execution_count": 24,
   "id": "2ce87234",
   "metadata": {},
   "outputs": [
    {
     "name": "stderr",
     "output_type": "stream",
     "text": [
      "Loading HaRiM+ score\tpretrained_name = facebook/bart-large-cnn\n",
      "You can change checkpoints with `pretrained_name` kwarg in evaluate.load. Strongly recommend to use *-large or larger ones.Refrain from using checkpoints trained on noisy corpus such as bbc-XSUM.\n"
     ]
    }
   ],
   "source": [
    "HARIM = evaluate.load('NCSOFT/harim_plus')"
   ]
  },
  {
   "cell_type": "code",
   "execution_count": 25,
   "id": "923719d1",
   "metadata": {},
   "outputs": [],
   "source": [
    "def acuracia_sumarizacao(texto: str, resumo: str) -> str:\n",
    "    \"\"\"'\n",
    "    Retorna a acurácia do resumo por meio da métrica Harim.\n",
    "    \n",
    "    recebe - texto: texto disponibilizado, resumo: texto resumido pelo modelo\n",
    "    retorna - acuracia: acuracia do resumo\n",
    "    \"\"\"\n",
    "    \n",
    "    texto_cru = [texto]\n",
    "    texto_resumido = [resumo]\n",
    "    acuracia = HARIM.compute(references = texto_cru, predictions = texto_resumido)\n",
    "    \n",
    "    return round(acuracia[0], 4)"
   ]
  },
  {
   "cell_type": "markdown",
   "id": "45576852",
   "metadata": {},
   "source": [
    "## 5.1 - Acurácia sumarização de textos em português (Hugging Face) <a id=\"51\"></a>"
   ]
  },
  {
   "cell_type": "markdown",
   "id": "81a5c09b",
   "metadata": {},
   "source": [
    "**Textos PDF**"
   ]
  },
  {
   "cell_type": "code",
   "execution_count": 26,
   "id": "877e3d8e",
   "metadata": {},
   "outputs": [
    {
     "name": "stderr",
     "output_type": "stream",
     "text": [
      "computing HaRiM+ bsz=32, core=facebook/bart-large-cnn: 100%|█████████████████████████████| 1/1 [00:02<00:00,  2.48s/it]"
     ]
    },
    {
     "name": "stdout",
     "output_type": "stream",
     "text": [
      "Acurácia texto normalizado PDF: 2.3103\n"
     ]
    },
    {
     "name": "stderr",
     "output_type": "stream",
     "text": [
      "\n"
     ]
    }
   ],
   "source": [
    "print(f'Acurácia texto normalizado PDF: {acuracia_sumarizacao(texto_pdf, texto_pdf_normalizado_resumido_pt)}')"
   ]
  },
  {
   "cell_type": "code",
   "execution_count": 27,
   "id": "414aaf86",
   "metadata": {},
   "outputs": [
    {
     "name": "stderr",
     "output_type": "stream",
     "text": [
      "computing HaRiM+ bsz=32, core=facebook/bart-large-cnn: 100%|█████████████████████████████| 1/1 [00:02<00:00,  2.04s/it]"
     ]
    },
    {
     "name": "stdout",
     "output_type": "stream",
     "text": [
      "Acurácia texto não normalizado PDF: 4.1763\n"
     ]
    },
    {
     "name": "stderr",
     "output_type": "stream",
     "text": [
      "\n"
     ]
    }
   ],
   "source": [
    "print(f'Acurácia texto não normalizado PDF: {acuracia_sumarizacao(texto_pdf, texto_pdf_resumido_pt)}')"
   ]
  },
  {
   "cell_type": "markdown",
   "id": "ae6cc70c",
   "metadata": {},
   "source": [
    "**Textos input**"
   ]
  },
  {
   "cell_type": "code",
   "execution_count": 28,
   "id": "9691ba95",
   "metadata": {},
   "outputs": [
    {
     "name": "stderr",
     "output_type": "stream",
     "text": [
      "computing HaRiM+ bsz=32, core=facebook/bart-large-cnn: 100%|█████████████████████████████| 1/1 [00:01<00:00,  1.27s/it]"
     ]
    },
    {
     "name": "stdout",
     "output_type": "stream",
     "text": [
      "Acurácia texto normalizado input: 2.1613\n"
     ]
    },
    {
     "name": "stderr",
     "output_type": "stream",
     "text": [
      "\n"
     ]
    }
   ],
   "source": [
    "print(f'Acurácia texto normalizado input: {acuracia_sumarizacao(texto_input, texto_input_normalizado_resumido_pt)}')"
   ]
  },
  {
   "cell_type": "code",
   "execution_count": 29,
   "id": "768bf42a",
   "metadata": {},
   "outputs": [
    {
     "name": "stderr",
     "output_type": "stream",
     "text": [
      "computing HaRiM+ bsz=32, core=facebook/bart-large-cnn: 100%|█████████████████████████████| 1/1 [00:01<00:00,  1.27s/it]"
     ]
    },
    {
     "name": "stdout",
     "output_type": "stream",
     "text": [
      "Acurácia texto input: 2.2051\n"
     ]
    },
    {
     "name": "stderr",
     "output_type": "stream",
     "text": [
      "\n"
     ]
    }
   ],
   "source": [
    "print(f'Acurácia texto input: {acuracia_sumarizacao(texto_input, texto_input_resumido_pt)}')"
   ]
  },
  {
   "cell_type": "markdown",
   "id": "389f4d40",
   "metadata": {},
   "source": [
    "## 5.2 - Acurácia sumarização de textos em inglês (Hugging Face) <a id=\"52\"></a>"
   ]
  },
  {
   "cell_type": "markdown",
   "id": "878ec8ec",
   "metadata": {},
   "source": [
    "**Textos PDF**"
   ]
  },
  {
   "cell_type": "code",
   "execution_count": 30,
   "id": "19785cf0",
   "metadata": {},
   "outputs": [],
   "source": [
    "#print(f'Acurácia texto normalizado PDF: {acuracia_sumarizacao(texto_pdf, texto_pdf_normalizado_resumido_en)}')"
   ]
  },
  {
   "cell_type": "code",
   "execution_count": 31,
   "id": "d3c17bbf",
   "metadata": {},
   "outputs": [],
   "source": [
    "#print(f'Acurácia texto não normalizado PDF: {acuracia_sumarizacao(texto_pdf, texto_pdf_resumido_en)}')"
   ]
  },
  {
   "cell_type": "markdown",
   "id": "9698ca6c",
   "metadata": {},
   "source": [
    "**Textos input**"
   ]
  },
  {
   "cell_type": "code",
   "execution_count": 32,
   "id": "e630a1b5",
   "metadata": {},
   "outputs": [],
   "source": [
    "#print(f'Acurácia texto normalizado input: {acuracia_sumarizacao(texto_input, texto_input_normalizado_resumido_en)}')"
   ]
  },
  {
   "cell_type": "code",
   "execution_count": 33,
   "id": "dc72d15b",
   "metadata": {},
   "outputs": [],
   "source": [
    "#print(f'Acurácia texto input: {acuracia_sumarizacao(texto_input, texto_input_resumido_en)}')"
   ]
  },
  {
   "cell_type": "markdown",
   "id": "fb11fde6",
   "metadata": {},
   "source": [
    "# 6 - Conclusão <a id=\"6\"></a>\n",
    "Portanto, concluí-se que existe a possibilidade de resumo de textos oriundos do PDF e input do usuário para a língua portuguesa e inglesa. Da mesma forma, o estudo exploratório demonstra que não há necessidade em normalizar o texto."
   ]
  },
  {
   "cell_type": "markdown",
   "id": "9339c28f",
   "metadata": {},
   "source": [
    "<hr>"
   ]
  },
  {
   "cell_type": "markdown",
   "id": "98c68a83",
   "metadata": {},
   "source": [
    "@Victor Resende™ <br>\n",
    "Novembro, 2022"
   ]
  }
 ],
 "metadata": {
  "kernelspec": {
   "display_name": "Python 3 (ipykernel)",
   "language": "python",
   "name": "python3"
  },
  "language_info": {
   "codemirror_mode": {
    "name": "ipython",
    "version": 3
   },
   "file_extension": ".py",
   "mimetype": "text/x-python",
   "name": "python",
   "nbconvert_exporter": "python",
   "pygments_lexer": "ipython3",
   "version": "3.9.7"
  }
 },
 "nbformat": 4,
 "nbformat_minor": 5
}
